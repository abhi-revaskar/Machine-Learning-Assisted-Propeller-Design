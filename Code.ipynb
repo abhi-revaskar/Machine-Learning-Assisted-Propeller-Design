{
 "cells": [
  {
   "cell_type": "code",
   "execution_count": 1,
   "id": "a38bad88",
   "metadata": {},
   "outputs": [],
   "source": [
    "# Import necessary libraries \n",
    "import pandas as pd\n",
    "import numpy as np\n",
    "import matplotlib.pyplot as plt\n",
    "%matplotlib inline\n",
    "import math"
   ]
  },
  {
   "cell_type": "code",
   "execution_count": 2,
   "id": "58dd9061",
   "metadata": {},
   "outputs": [],
   "source": [
    "from sklearn.model_selection import train_test_split\n",
    "from sklearn.ensemble import RandomForestRegressor\n",
    "from sklearn import metrics"
   ]
  },
  {
   "cell_type": "code",
   "execution_count": 3,
   "id": "cdd7cc87",
   "metadata": {},
   "outputs": [],
   "source": [
    "data = pd.read_excel('Dataset.xlsx')"
   ]
  },
  {
   "cell_type": "code",
   "execution_count": 4,
   "id": "237c5fa9",
   "metadata": {},
   "outputs": [
    {
     "data": {
      "text/html": [
       "<div>\n",
       "<style scoped>\n",
       "    .dataframe tbody tr th:only-of-type {\n",
       "        vertical-align: middle;\n",
       "    }\n",
       "\n",
       "    .dataframe tbody tr th {\n",
       "        vertical-align: top;\n",
       "    }\n",
       "\n",
       "    .dataframe thead th {\n",
       "        text-align: right;\n",
       "    }\n",
       "</style>\n",
       "<table border=\"1\" class=\"dataframe\">\n",
       "  <thead>\n",
       "    <tr style=\"text-align: right;\">\n",
       "      <th></th>\n",
       "      <th>Blades</th>\n",
       "      <th>RPM</th>\n",
       "      <th>Diameter</th>\n",
       "      <th>Thrust</th>\n",
       "      <th>Ship_Speed</th>\n",
       "      <th>Hub_Diameter</th>\n",
       "      <th>Efficiency</th>\n",
       "    </tr>\n",
       "  </thead>\n",
       "  <tbody>\n",
       "    <tr>\n",
       "      <th>0</th>\n",
       "      <td>3</td>\n",
       "      <td>200</td>\n",
       "      <td>2.0</td>\n",
       "      <td>25000</td>\n",
       "      <td>5</td>\n",
       "      <td>0.4</td>\n",
       "      <td>0.012197</td>\n",
       "    </tr>\n",
       "    <tr>\n",
       "      <th>1</th>\n",
       "      <td>3</td>\n",
       "      <td>250</td>\n",
       "      <td>2.0</td>\n",
       "      <td>25000</td>\n",
       "      <td>5</td>\n",
       "      <td>0.4</td>\n",
       "      <td>0.013144</td>\n",
       "    </tr>\n",
       "    <tr>\n",
       "      <th>2</th>\n",
       "      <td>3</td>\n",
       "      <td>300</td>\n",
       "      <td>2.0</td>\n",
       "      <td>25000</td>\n",
       "      <td>5</td>\n",
       "      <td>0.4</td>\n",
       "      <td>0.014190</td>\n",
       "    </tr>\n",
       "    <tr>\n",
       "      <th>3</th>\n",
       "      <td>3</td>\n",
       "      <td>350</td>\n",
       "      <td>2.0</td>\n",
       "      <td>25000</td>\n",
       "      <td>5</td>\n",
       "      <td>0.4</td>\n",
       "      <td>0.015349</td>\n",
       "    </tr>\n",
       "    <tr>\n",
       "      <th>4</th>\n",
       "      <td>3</td>\n",
       "      <td>400</td>\n",
       "      <td>2.0</td>\n",
       "      <td>25000</td>\n",
       "      <td>5</td>\n",
       "      <td>0.4</td>\n",
       "      <td>0.016637</td>\n",
       "    </tr>\n",
       "  </tbody>\n",
       "</table>\n",
       "</div>"
      ],
      "text/plain": [
       "   Blades  RPM  Diameter  Thrust  Ship_Speed  Hub_Diameter  Efficiency\n",
       "0       3  200       2.0   25000           5           0.4    0.012197\n",
       "1       3  250       2.0   25000           5           0.4    0.013144\n",
       "2       3  300       2.0   25000           5           0.4    0.014190\n",
       "3       3  350       2.0   25000           5           0.4    0.015349\n",
       "4       3  400       2.0   25000           5           0.4    0.016637"
      ]
     },
     "execution_count": 4,
     "metadata": {},
     "output_type": "execute_result"
    }
   ],
   "source": [
    "data.head()"
   ]
  },
  {
   "cell_type": "code",
   "execution_count": 5,
   "id": "6e589ada",
   "metadata": {},
   "outputs": [],
   "source": [
    "#Store the data in the form of dependent and independent variables separately\n",
    "X = data.iloc[:, :-1].values \n",
    "y = data.iloc[:, -1:].values"
   ]
  },
  {
   "cell_type": "code",
   "execution_count": 6,
   "id": "9e3dd557",
   "metadata": {},
   "outputs": [],
   "source": [
    "#Split the Dataset into Training and Test Dataset\n",
    "X_train, X_test, y_train, y_test = train_test_split(X, y, test_size=0.3, random_state=21111404)"
   ]
  },
  {
   "cell_type": "code",
   "execution_count": 7,
   "id": "c04632df",
   "metadata": {},
   "outputs": [
    {
     "data": {
      "text/plain": [
       "RandomForestRegressor(criterion='mae', n_estimators=5, random_state=21111404)"
      ]
     },
     "execution_count": 7,
     "metadata": {},
     "output_type": "execute_result"
    }
   ],
   "source": [
    "#Create a Random Forest regressor object from Random Forest Regressor class\n",
    "RFReg = RandomForestRegressor(n_estimators = 5, random_state = 21111404, criterion = \"mae\")\n",
    "  \n",
    "#Fit the random forest regressor with training data represented by X_train and y_train\n",
    "RFReg.fit(X_train, y_train.ravel())"
   ]
  },
  {
   "cell_type": "code",
   "execution_count": 8,
   "id": "324b39bc",
   "metadata": {},
   "outputs": [
    {
     "name": "stdout",
     "output_type": "stream",
     "text": [
      "R-Square Error associated with Random Forest Regression is: 0.9782550305533042\n"
     ]
    }
   ],
   "source": [
    "#Predicted Height from test dataset w.r.t Random Forest Regression\n",
    "y_predict_rfr = RFReg.predict((X_test))\n",
    "\n",
    "#Model Evaluation using R-Square for Random Forest Regression\n",
    "r_square = metrics.r2_score(y_test, y_predict_rfr)\n",
    "print('R-Square Error associated with Random Forest Regression is:', r_square)"
   ]
  },
  {
   "cell_type": "code",
   "execution_count": 9,
   "id": "6c838718",
   "metadata": {},
   "outputs": [],
   "source": [
    "idx = (-y_predict_rfr).argsort()[:3]"
   ]
  },
  {
   "cell_type": "code",
   "execution_count": 10,
   "id": "b5c25ca0",
   "metadata": {},
   "outputs": [
    {
     "data": {
      "text/plain": [
       "array([742, 228, 385], dtype=int64)"
      ]
     },
     "execution_count": 10,
     "metadata": {},
     "output_type": "execute_result"
    }
   ],
   "source": [
    "idx"
   ]
  },
  {
   "cell_type": "code",
   "execution_count": 11,
   "id": "ad05e1bc",
   "metadata": {},
   "outputs": [
    {
     "name": "stdout",
     "output_type": "stream",
     "text": [
      "[4.0e+00 2.0e+03 2.0e+00 2.5e+04 5.0e+00 4.0e-01]\n",
      "[5.0e+00 2.0e+03 2.0e+00 2.5e+04 5.0e+00 4.0e-01]\n",
      "[4.00e+00 1.95e+03 2.00e+00 2.50e+04 5.00e+00 4.00e-01]\n"
     ]
    }
   ],
   "source": [
    "for i in range(len(idx)):\n",
    "    print(X_test[idx[i]])"
   ]
  },
  {
   "cell_type": "code",
   "execution_count": 12,
   "id": "8ff326a6",
   "metadata": {},
   "outputs": [
    {
     "data": {
      "text/plain": [
       "LinearRegression()"
      ]
     },
     "execution_count": 12,
     "metadata": {},
     "output_type": "execute_result"
    }
   ],
   "source": [
    "from sklearn.linear_model import LinearRegression\n",
    "MLR = LinearRegression()\n",
    "MLR.fit(X_train, y_train)"
   ]
  },
  {
   "cell_type": "code",
   "execution_count": 13,
   "id": "e80d24e5",
   "metadata": {},
   "outputs": [
    {
     "name": "stdout",
     "output_type": "stream",
     "text": [
      "constant = [0.05286604]\n",
      "coefficients = [[-3.86388186e-03  4.99410639e-05 -1.15444769e-02  0.00000000e+00\n",
      "   0.00000000e+00  2.51432406e-30]]\n"
     ]
    }
   ],
   "source": [
    "#Print the constant and coeffcients\n",
    "print(f'constant = {MLR.intercept_}')\n",
    "print(f'coefficients = {MLR.coef_}')"
   ]
  },
  {
   "cell_type": "code",
   "execution_count": 14,
   "id": "2e73f028",
   "metadata": {},
   "outputs": [],
   "source": [
    "# Predicting the Test set results\n",
    "y_predict = MLR.predict(X_test)"
   ]
  },
  {
   "cell_type": "code",
   "execution_count": 15,
   "id": "a9b2ad7b",
   "metadata": {},
   "outputs": [
    {
     "data": {
      "text/html": [
       "<div>\n",
       "<style scoped>\n",
       "    .dataframe tbody tr th:only-of-type {\n",
       "        vertical-align: middle;\n",
       "    }\n",
       "\n",
       "    .dataframe tbody tr th {\n",
       "        vertical-align: top;\n",
       "    }\n",
       "\n",
       "    .dataframe thead th {\n",
       "        text-align: right;\n",
       "    }\n",
       "</style>\n",
       "<table border=\"1\" class=\"dataframe\">\n",
       "  <thead>\n",
       "    <tr style=\"text-align: right;\">\n",
       "      <th></th>\n",
       "      <th>y_test</th>\n",
       "      <th>y_predict</th>\n",
       "    </tr>\n",
       "  </thead>\n",
       "  <tbody>\n",
       "    <tr>\n",
       "      <th>0</th>\n",
       "      <td>0.000003</td>\n",
       "      <td>-0.064419</td>\n",
       "    </tr>\n",
       "    <tr>\n",
       "      <th>1</th>\n",
       "      <td>0.000014</td>\n",
       "      <td>-0.031930</td>\n",
       "    </tr>\n",
       "    <tr>\n",
       "      <th>2</th>\n",
       "      <td>0.000023</td>\n",
       "      <td>-0.016007</td>\n",
       "    </tr>\n",
       "    <tr>\n",
       "      <th>3</th>\n",
       "      <td>0.000027</td>\n",
       "      <td>-0.014830</td>\n",
       "    </tr>\n",
       "    <tr>\n",
       "      <th>4</th>\n",
       "      <td>0.002370</td>\n",
       "      <td>0.045579</td>\n",
       "    </tr>\n",
       "    <tr>\n",
       "      <th>...</th>\n",
       "      <td>...</td>\n",
       "      <td>...</td>\n",
       "    </tr>\n",
       "    <tr>\n",
       "      <th>750</th>\n",
       "      <td>0.000117</td>\n",
       "      <td>0.008422</td>\n",
       "    </tr>\n",
       "    <tr>\n",
       "      <th>751</th>\n",
       "      <td>0.000517</td>\n",
       "      <td>0.009254</td>\n",
       "    </tr>\n",
       "    <tr>\n",
       "      <th>752</th>\n",
       "      <td>0.004145</td>\n",
       "      <td>0.047623</td>\n",
       "    </tr>\n",
       "    <tr>\n",
       "      <th>753</th>\n",
       "      <td>0.002771</td>\n",
       "      <td>0.020798</td>\n",
       "    </tr>\n",
       "    <tr>\n",
       "      <th>754</th>\n",
       "      <td>0.014915</td>\n",
       "      <td>0.069067</td>\n",
       "    </tr>\n",
       "  </tbody>\n",
       "</table>\n",
       "<p>755 rows × 2 columns</p>\n",
       "</div>"
      ],
      "text/plain": [
       "       y_test  y_predict\n",
       "0    0.000003  -0.064419\n",
       "1    0.000014  -0.031930\n",
       "2    0.000023  -0.016007\n",
       "3    0.000027  -0.014830\n",
       "4    0.002370   0.045579\n",
       "..        ...        ...\n",
       "750  0.000117   0.008422\n",
       "751  0.000517   0.009254\n",
       "752  0.004145   0.047623\n",
       "753  0.002771   0.020798\n",
       "754  0.014915   0.069067\n",
       "\n",
       "[755 rows x 2 columns]"
      ]
     },
     "execution_count": 15,
     "metadata": {},
     "output_type": "execute_result"
    }
   ],
   "source": [
    "# Display actual and predicted values side by side\n",
    "df = pd.DataFrame(data=y_test, columns=['y_test'])\n",
    "df['y_predict'] = y_predict\n",
    "df"
   ]
  },
  {
   "cell_type": "code",
   "execution_count": 16,
   "id": "07ef7061",
   "metadata": {},
   "outputs": [
    {
     "name": "stdout",
     "output_type": "stream",
     "text": [
      "R-Square Error: 0.21111618738313676\n"
     ]
    }
   ],
   "source": [
    "#Model Evaluation using R-Square\n",
    "r_square = metrics.r2_score(y_test, y_predict)\n",
    "print('R-Square Error:', r_square)"
   ]
  },
  {
   "cell_type": "code",
   "execution_count": 17,
   "id": "448249c2",
   "metadata": {},
   "outputs": [
    {
     "name": "stdout",
     "output_type": "stream",
     "text": [
      "R-Square Error: 0.9865456311119819\n"
     ]
    }
   ],
   "source": [
    "data = pd.read_excel('Dataset.xlsx') \n",
    "\n",
    "X = data.iloc[:, 0:-1].values \n",
    "y = data.iloc[:, -1].values\n",
    "\n",
    "X_train, X_test, y_train, y_test = train_test_split(X, y, test_size=0.3, random_state=0)\n",
    "\n",
    "  \n",
    "#Create a Random Forest regressor object from Random Forest Regressor class\n",
    "RFReg = RandomForestRegressor(criterion='mse',n_estimators = 4, random_state = 21111003)\n",
    "  \n",
    "#Fit the random forest regressor with training data represented by X_train and y_train\n",
    "RFReg.fit(X_train, y_train)\n",
    "\n",
    "y_predict_rfr = RFReg.predict((X_test))\n",
    "\n",
    "from sklearn import metrics\n",
    "r_square = metrics.r2_score(y_test, y_predict_rfr)\n",
    "print('R-Square Error:', r_square)"
   ]
  },
  {
   "cell_type": "code",
   "execution_count": 18,
   "id": "ec96d964",
   "metadata": {},
   "outputs": [],
   "source": [
    "eff = (max(y_predict_rfr))"
   ]
  },
  {
   "cell_type": "code",
   "execution_count": 19,
   "id": "38336187",
   "metadata": {},
   "outputs": [],
   "source": [
    "param = (X_test[np.argmax(y_predict_rfr)])"
   ]
  },
  {
   "cell_type": "code",
   "execution_count": 20,
   "id": "e772abae",
   "metadata": {},
   "outputs": [
    {
     "name": "stdout",
     "output_type": "stream",
     "text": [
      "Maximum Efficiency in Test Dataset = 0.7173886386330197\n"
     ]
    }
   ],
   "source": [
    "print(\"Maximum Efficiency in Test Dataset =\",eff)"
   ]
  },
  {
   "cell_type": "code",
   "execution_count": 21,
   "id": "9e241f0c",
   "metadata": {},
   "outputs": [
    {
     "name": "stdout",
     "output_type": "stream",
     "text": [
      "Optimal Number of Blades in Test Dataset = 4.0\n",
      "Optimal Rotations Per Minute of Propeller in Test Dataset = 2000.0\n",
      "Optimal Propeller Diameter in Test Dataset = 2.0 metres\n"
     ]
    }
   ],
   "source": [
    "print(\"Optimal Number of Blades in Test Dataset =\",param[0])\n",
    "print(\"Optimal Rotations Per Minute of Propeller in Test Dataset =\",param[1])\n",
    "print(\"Optimal Propeller Diameter in Test Dataset =\",param[2],\"metres\")"
   ]
  },
  {
   "cell_type": "code",
   "execution_count": 22,
   "id": "711260ba",
   "metadata": {},
   "outputs": [
    {
     "name": "stdout",
     "output_type": "stream",
     "text": [
      "R-Square Error: 0.5755558907640888\n"
     ]
    }
   ],
   "source": [
    "#Polynomial linear regression model\n",
    "from sklearn.linear_model import LinearRegression\n",
    "LinReg = LinearRegression()\n",
    "LinReg.fit(X_train, y_train)\n",
    "\n",
    "from sklearn.preprocessing import PolynomialFeatures \n",
    "  \n",
    "polynom = PolynomialFeatures(degree = 2) \n",
    "X_polynom = polynom.fit_transform(X_train) \n",
    "\n",
    "PolyReg = LinearRegression() \n",
    "PolyReg.fit(X_polynom, y_train)\n",
    "\n",
    "y_predict_pr = PolyReg.predict(polynom.fit_transform(X_test))\n",
    "\n",
    "r_square = metrics.r2_score(y_test, y_predict_pr)\n",
    "print('R-Square Error:', r_square)"
   ]
  },
  {
   "cell_type": "code",
   "execution_count": 23,
   "id": "9db6a1c2",
   "metadata": {},
   "outputs": [
    {
     "name": "stdout",
     "output_type": "stream",
     "text": [
      "R-Square Error: 0.23789679893866778\n"
     ]
    }
   ],
   "source": [
    "#Multiple linear regression model\n",
    "from sklearn.linear_model import LinearRegression\n",
    "MLR = LinearRegression()\n",
    "MLR.fit(X_train, y_train)\n",
    "\n",
    "y_predict = MLR.predict(X_test)\n",
    "r_square = metrics.r2_score(y_test, y_predict)\n",
    "print('R-Square Error:', r_square)"
   ]
  }
 ],
 "metadata": {
  "kernelspec": {
   "display_name": "Python 3 (ipykernel)",
   "language": "python",
   "name": "python3"
  },
  "language_info": {
   "codemirror_mode": {
    "name": "ipython",
    "version": 3
   },
   "file_extension": ".py",
   "mimetype": "text/x-python",
   "name": "python",
   "nbconvert_exporter": "python",
   "pygments_lexer": "ipython3",
   "version": "3.8.11"
  }
 },
 "nbformat": 4,
 "nbformat_minor": 5
}
